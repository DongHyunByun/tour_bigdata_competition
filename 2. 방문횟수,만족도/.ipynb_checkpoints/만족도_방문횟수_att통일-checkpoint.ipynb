{
 "cells": [
  {
   "cell_type": "code",
   "execution_count": 42,
   "metadata": {},
   "outputs": [],
   "source": [
    "import csv\n",
    "\n",
    "fileMatrixV=[]\n",
    "with open(\"방문횟수.csv\",\"r\",encoding='utf-8') as fileOpen:\n",
    "    for i in fileOpen:\n",
    "        i=i.strip(\"\\n\").split(\",\")\n",
    "        fileMatrixV.append(i)\n",
    "\n",
    "fileMatrixS=[]\n",
    "with open(\"만족도.csv\",\"r\",encoding='utf-8') as fileOpen:\n",
    "    for i in fileOpen:\n",
    "        i=i.strip(\"\\n\").split(\",\")\n",
    "        fileMatrixS.append(i)\n",
    "#공통att\n",
    "commonL=[]\n",
    "for i in fileMatrixV[0]:\n",
    "    if i in fileMatrixS[0]:\n",
    "        commonL.append(i)\n",
    "        \n",
    "#공통화된 방문횟수\n",
    "newV=[[0 for j in range(88)] for i in range(8)]\n",
    "newV[0]=commonL\n",
    "\n",
    "for col in range(len(newV[0])):\n",
    "    for j in range(len(fileMatrixV[0])):\n",
    "        if newV[0][col]==fileMatrixV[0][j]:\n",
    "            for i in range(8):\n",
    "                newV[i][col]=fileMatrixV[i][j]\n",
    "            break            \n",
    "\n",
    "with open(\"공통att방문횟수.csv\",\"w\",newline=\"\",encoding='utf-8') as fileWriter:\n",
    "    csvWriter=csv.writer(fileWriter)\n",
    "    csvWriter.writerows(newV)\n",
    "\n",
    "#공통화된 만족도\n",
    "newS=[[0 for j in range(88)] for i in range(8)]\n",
    "newS[0]=commonL\n",
    "\n",
    "for col in range(len(newS[0])):\n",
    "    for j in range(len(fileMatrixS[0])):\n",
    "        if newS[0][col]==fileMatrixS[0][j]:\n",
    "            for i in range(8):\n",
    "                newS[i][col]=fileMatrixS[i][j]\n",
    "            break\n",
    "\n",
    "with open(\"공통att만족도.csv\",\"w\",newline=\"\",encoding='utf-8') as fileWriter:\n",
    "    csvWriter=csv.writer(fileWriter)\n",
    "    csvWriter.writerows(newS)\n",
    "    \n",
    "    \n",
    "        \n"
   ]
  }
 ],
 "metadata": {
  "kernelspec": {
   "display_name": "Python 3",
   "language": "python",
   "name": "python3"
  },
  "language_info": {
   "codemirror_mode": {
    "name": "ipython",
    "version": 3
   },
   "file_extension": ".py",
   "mimetype": "text/x-python",
   "name": "python",
   "nbconvert_exporter": "python",
   "pygments_lexer": "ipython3",
   "version": "3.7.4"
  }
 },
 "nbformat": 4,
 "nbformat_minor": 2
}
