{
 "cells": [
  {
   "cell_type": "code",
   "execution_count": 16,
   "metadata": {},
   "outputs": [],
   "source": [
    "import csv\n",
    "\n",
    "fileMatrix=[]\n",
    "with open('to_seoul.csv','w',newline='',encoding='utf-8') as fileWrite:\n",
    "    myWriter=csv.writer(fileWrite)\n",
    "    with open('data.csv','r',encoding='utf-8') as fileOpen:\n",
    "        lineContent=fileOpen.readline().strip('\\n').split(',')\n",
    "        myWriter.writerow(lineContent)\n",
    "        lineContent=fileOpen.readline().strip('\\n').split(',')\n",
    "        while lineContent!=['']:\n",
    "\n",
    "            if lineContent[1]==\"서울\":\n",
    "                myWriter.writerow(lineContent)\n",
    "            lineContent=fileOpen.readline().strip('\\n').split(',')"
   ]
  }
 ],
 "metadata": {
  "kernelspec": {
   "display_name": "Python 3",
   "language": "python",
   "name": "python3"
  },
  "language_info": {
   "codemirror_mode": {
    "name": "ipython",
    "version": 3
   },
   "file_extension": ".py",
   "mimetype": "text/x-python",
   "name": "python",
   "nbconvert_exporter": "python",
   "pygments_lexer": "ipython3",
   "version": "3.7.3"
  }
 },
 "nbformat": 4,
 "nbformat_minor": 2
}
